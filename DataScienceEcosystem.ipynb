{
  "metadata": {
    "kernelspec": {
      "name": "python",
      "display_name": "Python (Pyodide)",
      "language": "python"
    },
    "language_info": {
      "codemirror_mode": {
        "name": "python",
        "version": 3
      },
      "file_extension": ".py",
      "mimetype": "text/x-python",
      "name": "python",
      "nbconvert_exporter": "python",
      "pygments_lexer": "ipython3",
      "version": "3.8"
    }
  },
  "nbformat_minor": 4,
  "nbformat": 4,
  "cells": [
    {
      "cell_type": "markdown",
      "source": "# Data Science Tools and Ecosystem",
      "metadata": {}
    },
    {
      "cell_type": "markdown",
      "source": "En este archivo, se resumen las herramientas y el ecosistema de la Ciencia de datos.",
      "metadata": {}
    },
    {
      "cell_type": "markdown",
      "source": "**Objetivos:**\n- Enumerar lenguajes de la Ciencia de Datos\n- Enumerar librerías de la Ciencia de Datos\n- Enumerar herramientas de la Ciencia de Datos\n",
      "metadata": {}
    },
    {
      "cell_type": "markdown",
      "source": "Algunos de los lenguajes más utilizados por los analistas de datos son:\n1. R\n2. Python\n3. Java\n4. Julia\n5. SQL",
      "metadata": {}
    },
    {
      "cell_type": "markdown",
      "source": "Algunas de las librerías más utilizadas por los analistas de datos son:\n1. TensorFlow\n2. Panda\n3. NumPy",
      "metadata": {}
    },
    {
      "cell_type": "markdown",
      "source": "| Herramientas de Ciencia de Datos       |\n|--------------------------------------- |\n| Jupyter Notebook                       |\n| RStudio                                |\n| Visual Studio Code                     |\n",
      "metadata": {}
    },
    {
      "cell_type": "markdown",
      "source": "### Ahora haremos algunos ejemplos evaluando operaciones aritméticas en Python:",
      "metadata": {}
    },
    {
      "cell_type": "code",
      "source": "(3*4)+5 #Esto es una operación aritmética sencilla para multiplicar y sumar enteros.",
      "metadata": {
        "trusted": true
      },
      "outputs": [
        {
          "execution_count": 4,
          "output_type": "execute_result",
          "data": {
            "text/plain": "17"
          },
          "metadata": {}
        }
      ],
      "execution_count": 4
    },
    {
      "cell_type": "code",
      "source": "200/60 #esto convierte minutos en horas",
      "metadata": {
        "trusted": true
      },
      "outputs": [
        {
          "execution_count": 5,
          "output_type": "execute_result",
          "data": {
            "text/plain": "3.3333333333333335"
          },
          "metadata": {}
        }
      ],
      "execution_count": 5
    },
    {
      "cell_type": "markdown",
      "source": "## Autor:\nTeresa",
      "metadata": {}
    },
    {
      "cell_type": "code",
      "source": "",
      "metadata": {
        "trusted": true
      },
      "outputs": [],
      "execution_count": null
    }
  ]
}